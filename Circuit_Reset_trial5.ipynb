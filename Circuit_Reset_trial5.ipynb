{
 "cells": [
  {
   "cell_type": "code",
   "execution_count": 20,
   "id": "statistical-appendix",
   "metadata": {},
   "outputs": [],
   "source": [
    "from qiskit import QuantumCircuit, ClassicalRegister, QuantumRegister\n",
    "from qiskit import execute, Aer\n",
    "from QArithmetic import mult\n",
    "from qiskit.circuit.quantumcircuit import QuantumCircuit\n",
    "from qiskit.circuit.instruction import Instruction\n",
    "\n",
    "\n",
    "\n",
    "def reset(qc, Qubit):\n",
    "    \"\"\"Reset q.\"\"\"\n",
    "    return self.append(Reset(), [qubit], [])\n",
    "QuantumCircuit.reset = reset\n",
    "\n",
    "# Registers and circuit.\n",
    "a = QuantumRegister(2)\n",
    "b = QuantumRegister(2)\n",
    "m = QuantumRegister(4)\n",
    "cm = ClassicalRegister(4)\n",
    "qc = QuantumCircuit(a, b, m, cm)\n",
    "\n"
   ]
  },
  {
   "cell_type": "code",
   "execution_count": 21,
   "id": "further-exception",
   "metadata": {},
   "outputs": [
    {
     "name": "stdout",
     "output_type": "stream",
     "text": [
      "            \n",
      "q40_0: ─────\n",
      "       ┌───┐\n",
      "q40_1: ┤ X ├\n",
      "       └───┘\n",
      "q41_0: ─────\n",
      "            \n",
      "q41_1: ─────\n",
      "            \n",
      "q42_0: ─────\n",
      "            \n",
      "q42_1: ─────\n",
      "            \n",
      "q42_2: ─────\n",
      "            \n",
      "q42_3: ─────\n",
      "            \n",
      " c5: 4/═════\n",
      "            \n"
     ]
    }
   ],
   "source": [
    "# Numbers to multiply.\n",
    "qc.x(a[1]) # a = 10 = 2\n",
    "print(qc)"
   ]
  },
  {
   "cell_type": "code",
   "execution_count": 22,
   "id": "lined-concept",
   "metadata": {},
   "outputs": [
    {
     "name": "stdout",
     "output_type": "stream",
     "text": [
      "            \n",
      "q40_0: ─────\n",
      "       ┌───┐\n",
      "q40_1: ┤ X ├\n",
      "       ├───┤\n",
      "q41_0: ┤ X ├\n",
      "       ├───┤\n",
      "q41_1: ┤ X ├\n",
      "       └───┘\n",
      "q42_0: ─────\n",
      "            \n",
      "q42_1: ─────\n",
      "            \n",
      "q42_2: ─────\n",
      "            \n",
      "q42_3: ─────\n",
      "            \n",
      " c5: 4/═════\n",
      "            \n"
     ]
    }
   ],
   "source": [
    "qc.x(b[0]) # b = 11 = 3\n",
    "qc.x(b[1])\n",
    "print(qc)\n"
   ]
  },
  {
   "cell_type": "code",
   "execution_count": 23,
   "id": "virtual-intent",
   "metadata": {},
   "outputs": [],
   "source": [
    "# Multiply the numbers, so |a>|b>|m=0> to |a>|b>|a*b>.\n",
    "mult(qc, a, b, m, 2)\n",
    " \n",
    "# Measure the result.\n",
    "qc.measure(m, cm)\n",
    "# Simulate the circuit.\n",
    "simulator = Aer.get_backend('qasm_simulator')\n",
    "result = execute(qc, simulator, shots=1, memory=True).result()\n",
    "memory = result.get_memory(qc)"
   ]
  },
  {
   "cell_type": "code",
   "execution_count": 24,
   "id": "cutting-lesbian",
   "metadata": {},
   "outputs": [
    {
     "data": {
      "text/plain": [
       "['0110']"
      ]
     },
     "execution_count": 24,
     "metadata": {},
     "output_type": "execute_result"
    }
   ],
   "source": [
    "memory"
   ]
  },
  {
   "cell_type": "code",
   "execution_count": null,
   "id": "fiscal-psychiatry",
   "metadata": {},
   "outputs": [],
   "source": []
  }
 ],
 "metadata": {
  "kernelspec": {
   "display_name": "Python 3",
   "language": "python",
   "name": "python3"
  },
  "language_info": {
   "codemirror_mode": {
    "name": "ipython",
    "version": 3
   },
   "file_extension": ".py",
   "mimetype": "text/x-python",
   "name": "python",
   "nbconvert_exporter": "python",
   "pygments_lexer": "ipython3",
   "version": "3.8.8"
  }
 },
 "nbformat": 4,
 "nbformat_minor": 5
}
